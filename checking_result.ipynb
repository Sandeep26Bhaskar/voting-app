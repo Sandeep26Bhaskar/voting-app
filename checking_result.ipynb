{
 "cells": [
  {
   "cell_type": "code",
   "execution_count": 20,
   "metadata": {},
   "outputs": [
    {
     "name": "stdout",
     "output_type": "stream",
     "text": [
      "Tally: {\"The Sudan People's Liberation Movement-in-Opposition unilaterally voids the 2018 peace agreement after the arrest of South Sudanese vice president Riek Machar and his wife, interior minister Angelina Teny (both pictured).\": 1, 'The Sudanese Armed Forces recapture Khartoum from the Rapid Support Forces after almost two years of fighting.': 2}\n",
      "('The Sudanese Armed Forces recapture Khartoum from the Rapid Support Forces after almost two years of fighting.', 2)\n"
     ]
    }
   ],
   "source": [
    "import json\n",
    "tally = {}\n",
    "with open('votes.json','r') as f:\n",
    "    votes = json.load(f)\n",
    "    \n",
    "    for task in votes.values():\n",
    "            # print(task)\n",
    "            if task not in tally:\n",
    "                tally[task] = 1\n",
    "            else:\n",
    "                tally[task] += 1    \n",
    "print(\"Tally:\",tally)\n",
    "sorted_tally = sorted(tally.items(), key =lambda x:x[1], reverse=True)\n",
    "print(sorted_tally[0])\n",
    "\n"
   ]
  },
  {
   "cell_type": "code",
   "execution_count": 1,
   "metadata": {},
   "outputs": [],
   "source": [
    "import json"
   ]
  },
  {
   "cell_type": "code",
   "execution_count": 32,
   "metadata": {},
   "outputs": [],
   "source": [
    "from datetime import datetime,timedelta\n",
    "with open('birthdays.json','r') as f:\n",
    "    birthdays = json.load(f)\n",
    "    "
   ]
  },
  {
   "cell_type": "code",
   "execution_count": 34,
   "metadata": {},
   "outputs": [
    {
     "name": "stdout",
     "output_type": "stream",
     "text": [
      "[{'name': 'Alice Johnson', 'dob': '1995-04-10'}]\n"
     ]
    }
   ],
   "source": [
    "upcoming_birthday = []\n",
    "today = datetime.now().date()\n",
    "for person in birthdays:\n",
    "    dob = datetime.strptime(person['dob'], '%Y-%m-%d').date()\n",
    "    try:\n",
    "        dob = dob.replace(year=datetime.now().year)\n",
    "    except ValueError:\n",
    "        dob = dob.replace(year=datetime.now().year, day=28)\n",
    "    if 0 < (dob -today).days < 7:\n",
    "        upcoming_birthday.append(person)\n",
    "if not upcoming_birthday:\n",
    "    print(\"No upcoming birthdays in the next week\")\n",
    "else:\n",
    "    print(upcoming_birthday)"
   ]
  },
  {
   "cell_type": "code",
   "execution_count": 2,
   "metadata": {},
   "outputs": [
    {
     "name": "stdout",
     "output_type": "stream",
     "text": [
      "[{'name': 'Alice Johnson', 'title': 'Software Engineer', 'photo': 'https://randomuser.me/api/portraits/women/1.jpg', 'dob': '1995-04-10'}, {'name': 'Bob Smith', 'title': 'Data Scientist', 'photo': 'https://randomuser.me/api/portraits/men/2.jpg', 'dob': '1993-04-15'}, {'name': 'Charlie Brown', 'title': 'Product Manager', 'photo': 'https://randomuser.me/api/portraits/men/3.jpg', 'dob': '1990-05-01'}, {'name': 'Diana Prince', 'title': 'UI/UX Designer', 'photo': 'https://randomuser.me/api/portraits/women/4.jpg', 'dob': '1988-06-20'}, {'name': 'Ethan Hunt', 'title': 'Security Analyst', 'photo': 'https://randomuser.me/api/portraits/men/5.jpg', 'dob': '1992-07-05'}, {'name': 'Fiona Gallagher', 'title': 'Marketing Specialist', 'photo': 'https://randomuser.me/api/portraits/women/6.jpg', 'dob': '1987-02-19'}, {'name': 'George Miller', 'title': 'DevOps Engineer', 'photo': 'https://randomuser.me/api/portraits/men/7.jpg', 'dob': '1999-10-14'}, {'name': 'Hannah Lee', 'title': 'Business Analyst', 'photo': 'https://randomuser.me/api/portraits/women/8.jpg', 'dob': '1983-12-01'}, {'name': 'Ian Wright', 'title': 'Cloud Architect', 'photo': 'https://randomuser.me/api/portraits/men/9.jpg', 'dob': '1984-07-07'}, {'name': 'Julia Roberts', 'title': 'Content Strategist', 'photo': 'https://randomuser.me/api/portraits/women/10.jpg', 'dob': '1990-03-28'}, {'name': 'Kevin Durant', 'title': 'AI Researcher', 'photo': 'https://randomuser.me/api/portraits/men/11.jpg', 'dob': '1985-09-09'}, {'name': 'Laura Palmer', 'title': 'Graphic Designer', 'photo': 'https://randomuser.me/api/portraits/women/12.jpg', 'dob': '1982-01-13'}, {'name': 'Michael Scott', 'title': 'Team Lead', 'photo': 'https://randomuser.me/api/portraits/men/13.jpg', 'dob': '1997-06-17'}, {'name': 'Nina Simone', 'title': 'HR Manager', 'photo': 'https://randomuser.me/api/portraits/women/14.jpg', 'dob': '1986-11-05'}, {'name': 'Oscar Wilde', 'title': 'Technical Writer', 'photo': 'https://randomuser.me/api/portraits/men/15.jpg', 'dob': '1981-04-30'}, {'name': 'Paula Abdul', 'title': 'Quality Assurance', 'photo': 'https://randomuser.me/api/portraits/women/16.jpg', 'dob': '1994-08-23'}]\n"
     ]
    }
   ],
   "source": [
    "import json\n",
    "with open('profiles.json', 'r') as f:\n",
    "    data = json.load(f)\n",
    "    print(data)"
   ]
  },
  {
   "cell_type": "code",
   "execution_count": null,
   "metadata": {},
   "outputs": [],
   "source": []
  },
  {
   "cell_type": "code",
   "execution_count": null,
   "metadata": {},
   "outputs": [],
   "source": []
  },
  {
   "cell_type": "code",
   "execution_count": null,
   "metadata": {},
   "outputs": [],
   "source": []
  }
 ],
 "metadata": {
  "kernelspec": {
   "display_name": "Python 3",
   "language": "python",
   "name": "python3"
  },
  "language_info": {
   "codemirror_mode": {
    "name": "ipython",
    "version": 3
   },
   "file_extension": ".py",
   "mimetype": "text/x-python",
   "name": "python",
   "nbconvert_exporter": "python",
   "pygments_lexer": "ipython3",
   "version": "3.12.0"
  }
 },
 "nbformat": 4,
 "nbformat_minor": 2
}
