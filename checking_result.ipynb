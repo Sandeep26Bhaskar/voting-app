{
 "cells": [
  {
   "cell_type": "code",
   "execution_count": 20,
   "metadata": {},
   "outputs": [
    {
     "name": "stdout",
     "output_type": "stream",
     "text": [
      "Tally: {\"The Sudan People's Liberation Movement-in-Opposition unilaterally voids the 2018 peace agreement after the arrest of South Sudanese vice president Riek Machar and his wife, interior minister Angelina Teny (both pictured).\": 1, 'The Sudanese Armed Forces recapture Khartoum from the Rapid Support Forces after almost two years of fighting.': 2}\n",
      "('The Sudanese Armed Forces recapture Khartoum from the Rapid Support Forces after almost two years of fighting.', 2)\n"
     ]
    }
   ],
   "source": [
    "import json\n",
    "tally = {}\n",
    "with open('votes.json','r') as f:\n",
    "    votes = json.load(f)\n",
    "    \n",
    "    for task in votes.values():\n",
    "            # print(task)\n",
    "            if task not in tally:\n",
    "                tally[task] = 1\n",
    "            else:\n",
    "                tally[task] += 1    \n",
    "print(\"Tally:\",tally)\n",
    "sorted_tally = sorted(tally.items(), key =lambda x:x[1], reverse=True)\n",
    "print(sorted_tally[0])\n",
    "\n"
   ]
  },
  {
   "cell_type": "code",
   "execution_count": 1,
   "metadata": {},
   "outputs": [],
   "source": [
    "import json"
   ]
  },
  {
   "cell_type": "code",
   "execution_count": 32,
   "metadata": {},
   "outputs": [],
   "source": [
    "from datetime import datetime,timedelta\n",
    "with open('birthdays.json','r') as f:\n",
    "    birthdays = json.load(f)\n",
    "    "
   ]
  },
  {
   "cell_type": "code",
   "execution_count": 34,
   "metadata": {},
   "outputs": [
    {
     "name": "stdout",
     "output_type": "stream",
     "text": [
      "[{'name': 'Alice Johnson', 'dob': '1995-04-10'}]\n"
     ]
    }
   ],
   "source": [
    "upcoming_birthday = []\n",
    "today = datetime.now().date()\n",
    "for person in birthdays:\n",
    "    dob = datetime.strptime(person['dob'], '%Y-%m-%d').date()\n",
    "    try:\n",
    "        dob = dob.replace(year=datetime.now().year)\n",
    "    except ValueError:\n",
    "        dob = dob.replace(year=datetime.now().year, day=28)\n",
    "    if 0 < (dob -today).days < 7:\n",
    "        upcoming_birthday.append(person)\n",
    "if not upcoming_birthday:\n",
    "    print(\"No upcoming birthdays in the next week\")\n",
    "else:\n",
    "    print(upcoming_birthday)"
   ]
  },
  {
   "cell_type": "code",
   "execution_count": null,
   "metadata": {},
   "outputs": [],
   "source": []
  },
  {
   "cell_type": "code",
   "execution_count": null,
   "metadata": {},
   "outputs": [],
   "source": []
  },
  {
   "cell_type": "code",
   "execution_count": null,
   "metadata": {},
   "outputs": [],
   "source": []
  },
  {
   "cell_type": "code",
   "execution_count": null,
   "metadata": {},
   "outputs": [],
   "source": []
  }
 ],
 "metadata": {
  "kernelspec": {
   "display_name": "Python 3",
   "language": "python",
   "name": "python3"
  },
  "language_info": {
   "codemirror_mode": {
    "name": "ipython",
    "version": 3
   },
   "file_extension": ".py",
   "mimetype": "text/x-python",
   "name": "python",
   "nbconvert_exporter": "python",
   "pygments_lexer": "ipython3",
   "version": "3.12.0"
  }
 },
 "nbformat": 4,
 "nbformat_minor": 2
}
